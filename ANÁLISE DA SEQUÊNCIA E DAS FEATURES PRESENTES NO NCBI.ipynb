{
 "cells": [
  {
   "cell_type": "code",
   "execution_count": 3,
   "id": "79319d32",
   "metadata": {},
   "outputs": [],
   "source": [
    "#Carregamento do package e dos módulos necessários\n",
    "from Bio import SeqIO"
   ]
  },
  {
   "cell_type": "code",
   "execution_count": 4,
   "id": "2c8a5e01",
   "metadata": {},
   "outputs": [
    {
     "data": {
      "text/plain": [
       "SeqRecord(seq=Seq('CCCTTCTGCTTTCGGGAAGCGGTCGGGGCTGCACACTCGGATCGGCGGGGCCGG...AAA'), id='NC_000001.11', name='NC_000001', description='Homo sapiens chromosome 1, GRCh38.p14 Primary Assembly', dbxrefs=['BioProject:PRJNA168', 'Assembly:GCF_000001405.40'])"
      ]
     },
     "execution_count": 4,
     "metadata": {},
     "output_type": "execute_result"
    }
   ],
   "source": [
    "#Carregar um dos ficheiros retirados do NCBI anteriormente guardados em formato genbank para análise.\n",
    "seq1 = SeqIO.read(\"PTGFRN.gb\", \"genbank\")\n",
    "seq1"
   ]
  },
  {
   "cell_type": "code",
   "execution_count": 5,
   "id": "f274c2e1",
   "metadata": {},
   "outputs": [
    {
     "name": "stdout",
     "output_type": "stream",
     "text": [
      "--------------------------------- ANÁLISE DA SEQUÊNCIA -------------------------------------\n",
      "ID: NC_000001.11\n",
      "Descrição: Homo sapiens chromosome 1, GRCh38.p14 Primary Assembly\n",
      "Nome: NC_000001\n",
      "Tamanho da sequência de DNA: 80438\n",
      "Organismo a que a sequência pertence: Homo sapiens\n",
      "classificação taxonómica: ['Eukaryota', 'Metazoa', 'Chordata', 'Craniata', 'Vertebrata', 'Euteleostomi', 'Mammalia', 'Eutheria', 'Euarchontoglires', 'Primates', 'Haplorrhini', 'Catarrhini', 'Hominidae', 'Homo']\n"
     ]
    }
   ],
   "source": [
    "#ANÁLISE DA SEQUÊNCIA \n",
    "print (\"--------------------------------- ANÁLISE DA SEQUÊNCIA -------------------------------------\")\n",
    "print ('ID:' , seq1.id )\n",
    "print ('Descrição:' , seq1.description )\n",
    "print ('Nome:' , seq1.name )\n",
    "print ('Tamanho da sequência de DNA:', len(seq1.seq))\n",
    "\n",
    "seq1.annotations\n",
    "list(seq1.annotations.keys())\n",
    "\n",
    "print ('Organismo a que a sequência pertence:', seq1.annotations[\"organism\"])\n",
    "print ('classificação taxonómica:', seq1.annotations[\"taxonomy\"])"
   ]
  },
  {
   "cell_type": "code",
   "execution_count": 10,
   "id": "f03ca0db",
   "metadata": {},
   "outputs": [
    {
     "name": "stdout",
     "output_type": "stream",
     "text": [
      "--------------------------------- ANÁLISE DAS FEATURES PRESENTES NO NCBI -------------------------------------\n",
      "Temos  23  features\n",
      "type: source\n",
      "location: [0:80438](+)\n",
      "qualifiers:\n",
      "    Key: chromosome, Value: ['1']\n",
      "    Key: db_xref, Value: ['taxon:9606']\n",
      "    Key: mol_type, Value: ['genomic DNA']\n",
      "    Key: organism, Value: ['Homo sapiens']\n",
      "\n",
      "type: gene\n",
      "location: [0:80438](+)\n",
      "qualifiers:\n",
      "    Key: db_xref, Value: ['GeneID:5738', 'HGNC:HGNC:9601', 'MIM:601204']\n",
      "    Key: gene, Value: ['PTGFRN']\n",
      "    Key: gene_synonym, Value: ['CD315; CD9P-1; EWI-F; FPRP; SMAP-6']\n",
      "    Key: note, Value: ['prostaglandin F2 receptor inhibitor; Derived by automated computational analysis using gene prediction method: BestRefSeq,Gnomon.']\n",
      "\n",
      "type: mRNA\n",
      "location: join{[0:337](+), [31799:32168](+), [34763:35177](+), [39276:39657](+), [51327:51753](+), [56995:57415](+), [64300:64408](+), [74764:75070](+), [76885:80438](+)}\n",
      "qualifiers:\n",
      "    Key: db_xref, Value: ['Ensembl:ENST00000393203.3', 'GeneID:5738', 'HGNC:HGNC:9601', 'MIM:601204']\n",
      "    Key: gene, Value: ['PTGFRN']\n",
      "    Key: gene_synonym, Value: ['CD315; CD9P-1; EWI-F; FPRP; SMAP-6']\n",
      "    Key: note, Value: ['Derived by automated computational analysis using gene prediction method: BestRefSeq.']\n",
      "    Key: product, Value: ['prostaglandin F2 receptor inhibitor']\n",
      "    Key: transcript_id, Value: ['NM_020440.4']\n",
      "\n",
      "type: CDS\n",
      "location: join{[288:337](+), [31799:32168](+), [34763:35177](+), [39276:39657](+), [51327:51753](+), [56995:57415](+), [64300:64408](+), [74764:75070](+), [76885:77052](+)}\n",
      "qualifiers:\n",
      "    Key: codon_start, Value: ['1']\n",
      "    Key: db_xref, Value: ['CCDS:CCDS890.1', 'Ensembl:ENSP00000376899.2', 'GeneID:5738', 'HGNC:HGNC:9601', 'MIM:601204']\n",
      "    Key: gene, Value: ['PTGFRN']\n",
      "    Key: gene_synonym, Value: ['CD315; CD9P-1; EWI-F; FPRP; SMAP-6']\n",
      "    Key: note, Value: ['Derived by automated computational analysis using gene prediction method: BestRefSeq.']\n",
      "    Key: product, Value: ['prostaglandin F2 receptor negative regulator precursor']\n",
      "    Key: protein_id, Value: ['NP_065173.2']\n",
      "    Key: translation, Value: ['MGRLASRPLLLALLSLALCRGRVVRVPTATLVRVVGTELVIPCNVSDYDGPSEQNFDWSFSSLGSSFVELASTWEVGFPAQLYQERLQRGEILLRRTANDAVELHIKNVQPSDQGHYKCSTPSTDATVQGNYEDTVQVKVLADSLHVGPSARPPPSLSLREGEPFELRCTAASASPLHTHLALLWEVHRGPARRSVLALTHEGRFHPGLGYEQRYHSGDVRLDTVGSDAYRLSVSRALSADQGSYRCIVSEWIAEQGNWQEIQEKAVEVATVVIQPSVLRAAVPKNVSVAEGKELDLTCNITTDRADDVRPEVTWSFSRMPDSTLPGSRVLARLDRDSLVHSSPHVALSHVDARSYHLLVRDVSKENSGYYYCHVSLWAPGHNRSWHKVAEAVSSPAGVGVTWLEPDYQVYLNASKVPGFADDPTELACRVVDTKSGEANVRFTVSWYYRMNRRSDNVVTSELLAVMDGDWTLKYGERSKQRAQDGDFIFSKEHTDTFNFRIQRTTEEDRGNYYCVVSAWTKQRNNSWVKSKDVFSKPVNIFWALEDSVLVVKARQPKPFFAAGNTFEMTCKVSSKNIKSPRYSVLIMAEKPVGDLSSPNETKYIISLDQDSVVKLENWTDASRVDGVVLEKVQEDEFRYRMYQTQVSDAGLYRCMVTAWSPVRGSLWREAATSLSNPIEIDFQTSGPIFNASVHSDTPSVIRGDLIKLFCIITVEGAALDPDDMAFDVSWFAVHSFGLDKAPVLLSSLDRKGIVTTSRRDWKSDLSLERVSVLEFLLQVHGSEDQDFGNYYCSVTPWVKSPTGSWQKEAEIHSKPVFITVKMDVLNAFKYPLLIGVGLSTVIGLLSCLIGYCSSHWCCKKEVQETRRERRRLMSMEMD']\n",
      "\n",
      "type: sig_peptide\n",
      "location: join{[288:337](+), [31799:31813](+)}\n",
      "qualifiers:\n",
      "    Key: gene, Value: ['PTGFRN']\n",
      "    Key: gene_synonym, Value: ['CD315; CD9P-1; EWI-F; FPRP; SMAP-6']\n",
      "    Key: inference, Value: ['COORDINATES: ab initio prediction:SignalP:4.0']\n",
      "\n",
      "type: misc_feature\n",
      "location: [31879:31882](+)\n",
      "qualifiers:\n",
      "    Key: gene, Value: ['PTGFRN']\n",
      "    Key: gene_synonym, Value: ['CD315; CD9P-1; EWI-F; FPRP; SMAP-6']\n",
      "    Key: note, Value: ['N-linked (GlcNAc...) asparagine. /evidence=ECO:0000269|PubMed:17960739; propagated from UniProtKB/Swiss-Prot (Q9P2B2.2); glycosylation site']\n",
      "\n",
      "type: misc_feature\n",
      "location: [35155:35158](+)\n",
      "qualifiers:\n",
      "    Key: gene, Value: ['PTGFRN']\n",
      "    Key: gene_synonym, Value: ['CD315; CD9P-1; EWI-F; FPRP; SMAP-6']\n",
      "    Key: note, Value: ['Phosphothreonine. /evidence=ECO:0000250|UniProtKB:Q62786; propagated from UniProtKB/Swiss-Prot (Q9P2B2.2); phosphorylation site']\n",
      "\n",
      "type: misc_feature\n",
      "location: [39299:39302](+)\n",
      "qualifiers:\n",
      "    Key: gene, Value: ['PTGFRN']\n",
      "    Key: gene_synonym, Value: ['CD315; CD9P-1; EWI-F; FPRP; SMAP-6']\n",
      "    Key: note, Value: ['N-linked (GlcNAc...) asparagine. /evidence=ECO:0000269|PubMed:17960739, ECO:0000269|PubMed:19159218; propagated from UniProtKB/Swiss-Prot (Q9P2B2.2); glycosylation site']\n",
      "\n",
      "type: misc_feature\n",
      "location: [39341:39344](+)\n",
      "qualifiers:\n",
      "    Key: gene, Value: ['PTGFRN']\n",
      "    Key: gene_synonym, Value: ['CD315; CD9P-1; EWI-F; FPRP; SMAP-6']\n",
      "    Key: note, Value: ['N-linked (GlcNAc...) asparagine. /evidence=ECO:0000269|PubMed:17960739, ECO:0000269|PubMed:19159218; propagated from UniProtKB/Swiss-Prot (Q9P2B2.2); glycosylation site']\n",
      "\n",
      "type: misc_feature\n",
      "location: [39590:39593](+)\n",
      "qualifiers:\n",
      "    Key: gene, Value: ['PTGFRN']\n",
      "    Key: gene_synonym, Value: ['CD315; CD9P-1; EWI-F; FPRP; SMAP-6']\n",
      "    Key: note, Value: ['N-linked (GlcNAc...) asparagine. /evidence=ECO:0000269|PubMed:17960739; propagated from UniProtKB/Swiss-Prot (Q9P2B2.2); glycosylation site']\n",
      "\n",
      "type: misc_feature\n",
      "location: [51350:51353](+)\n",
      "qualifiers:\n",
      "    Key: gene, Value: ['PTGFRN']\n",
      "    Key: gene_synonym, Value: ['CD315; CD9P-1; EWI-F; FPRP; SMAP-6']\n",
      "    Key: note, Value: ['N-linked (GlcNAc...) asparagine. /evidence=ECO:0000269|PubMed:17960739; propagated from UniProtKB/Swiss-Prot (Q9P2B2.2); glycosylation site']\n",
      "\n",
      "type: misc_feature\n",
      "location: [51383:51395](+)\n",
      "qualifiers:\n",
      "    Key: gene, Value: ['PTGFRN']\n",
      "    Key: gene_synonym, Value: ['CD315; CD9P-1; EWI-F; FPRP; SMAP-6']\n",
      "    Key: note, Value: ['propagated from UniProtKB/Swiss-Prot (Q9P2B2.2); Region: Endoplasmic reticulum retention signal']\n",
      "\n",
      "type: misc_feature\n",
      "location: [51686:51689](+)\n",
      "qualifiers:\n",
      "    Key: gene, Value: ['PTGFRN']\n",
      "    Key: gene_synonym, Value: ['CD315; CD9P-1; EWI-F; FPRP; SMAP-6']\n",
      "    Key: note, Value: ['N-linked (GlcNAc...) asparagine. /evidence=ECO:0000269|PubMed:17960739; propagated from UniProtKB/Swiss-Prot (Q9P2B2.2); glycosylation site']\n",
      "\n",
      "type: misc_feature\n",
      "location: [57153:57156](+)\n",
      "qualifiers:\n",
      "    Key: gene, Value: ['PTGFRN']\n",
      "    Key: gene_synonym, Value: ['CD315; CD9P-1; EWI-F; FPRP; SMAP-6']\n",
      "    Key: note, Value: ['N-linked (GlcNAc...) asparagine. /evidence=ECO:0000269|PubMed:17960739; propagated from UniProtKB/Swiss-Prot (Q9P2B2.2); glycosylation site']\n",
      "\n",
      "type: misc_feature\n",
      "location: [57207:57210](+)\n",
      "qualifiers:\n",
      "    Key: gene, Value: ['PTGFRN']\n",
      "    Key: gene_synonym, Value: ['CD315; CD9P-1; EWI-F; FPRP; SMAP-6']\n",
      "    Key: note, Value: ['N-linked (GlcNAc...) asparagine. /evidence=ECO:0000269|PubMed:17960739; propagated from UniProtKB/Swiss-Prot (Q9P2B2.2); glycosylation site']\n",
      "\n",
      "type: misc_feature\n",
      "location: [64311:64314](+)\n",
      "qualifiers:\n",
      "    Key: gene, Value: ['PTGFRN']\n",
      "    Key: gene_synonym, Value: ['CD315; CD9P-1; EWI-F; FPRP; SMAP-6']\n",
      "    Key: note, Value: ['N-linked (GlcNAc...) asparagine. /evidence=ECO:0000269|PubMed:17960739; propagated from UniProtKB/Swiss-Prot (Q9P2B2.2); glycosylation site']\n",
      "\n",
      "type: misc_feature\n",
      "location: [64347:64356](+)\n",
      "qualifiers:\n",
      "    Key: gene, Value: ['PTGFRN']\n",
      "    Key: gene_synonym, Value: ['CD315; CD9P-1; EWI-F; FPRP; SMAP-6']\n",
      "    Key: note, Value: ['propagated from UniProtKB/Swiss-Prot (Q9P2B2.2); Region: Cell attachment site. /evidence=ECO:0000255']\n",
      "\n",
      "type: misc_feature\n",
      "location: [76908:76971](+)\n",
      "qualifiers:\n",
      "    Key: gene, Value: ['PTGFRN']\n",
      "    Key: gene_synonym, Value: ['CD315; CD9P-1; EWI-F; FPRP; SMAP-6']\n",
      "    Key: note, Value: ['propagated from UniProtKB/Swiss-Prot (Q9P2B2.2); transmembrane region']\n",
      "\n",
      "type: mRNA\n",
      "location: join{[21151:21299](+), [31799:32168](+), [34763:35177](+), [39276:39657](+), [51327:51753](+), [56995:57415](+), [64300:64408](+), [74764:75070](+), [76885:80438](+)}\n",
      "qualifiers:\n",
      "    Key: db_xref, Value: ['GeneID:5738', 'HGNC:HGNC:9601', 'MIM:601204']\n",
      "    Key: experiment, Value: ['COORDINATES: polyA evidence [ECO:0006239]']\n",
      "    Key: gene, Value: ['PTGFRN']\n",
      "    Key: gene_synonym, Value: ['CD315; CD9P-1; EWI-F; FPRP; SMAP-6']\n",
      "    Key: product, Value: ['prostaglandin F2 receptor inhibitor, transcript variant X1']\n",
      "    Key: transcript_id, Value: ['XM_017001874.2']\n",
      "\n",
      "type: CDS\n",
      "location: join{[21232:21299](+), [31799:32168](+), [34763:35177](+), [39276:39657](+), [51327:51753](+), [56995:57415](+), [64300:64408](+), [74764:75070](+), [76885:77052](+)}\n",
      "qualifiers:\n",
      "    Key: codon_start, Value: ['1']\n",
      "    Key: db_xref, Value: ['GeneID:5738', 'HGNC:HGNC:9601', 'MIM:601204']\n",
      "    Key: gene, Value: ['PTGFRN']\n",
      "    Key: gene_synonym, Value: ['CD315; CD9P-1; EWI-F; FPRP; SMAP-6']\n",
      "    Key: note, Value: ['Derived by automated computational analysis using gene prediction method: Gnomon.']\n",
      "    Key: product, Value: ['prostaglandin F2 receptor negative regulator isoform X1']\n",
      "    Key: protein_id, Value: ['XP_016857363.1']\n",
      "    Key: translation, Value: ['MLGGNARWSTLDFGFSDWESLTALCRGRVVRVPTATLVRVVGTELVIPCNVSDYDGPSEQNFDWSFSSLGSSFVELASTWEVGFPAQLYQERLQRGEILLRRTANDAVELHIKNVQPSDQGHYKCSTPSTDATVQGNYEDTVQVKVLADSLHVGPSARPPPSLSLREGEPFELRCTAASASPLHTHLALLWEVHRGPARRSVLALTHEGRFHPGLGYEQRYHSGDVRLDTVGSDAYRLSVSRALSADQGSYRCIVSEWIAEQGNWQEIQEKAVEVATVVIQPSVLRAAVPKNVSVAEGKELDLTCNITTDRADDVRPEVTWSFSRMPDSTLPGSRVLARLDRDSLVHSSPHVALSHVDARSYHLLVRDVSKENSGYYYCHVSLWAPGHNRSWHKVAEAVSSPAGVGVTWLEPDYQVYLNASKVPGFADDPTELACRVVDTKSGEANVRFTVSWYYRMNRRSDNVVTSELLAVMDGDWTLKYGERSKQRAQDGDFIFSKEHTDTFNFRIQRTTEEDRGNYYCVVSAWTKQRNNSWVKSKDVFSKPVNIFWALEDSVLVVKARQPKPFFAAGNTFEMTCKVSSKNIKSPRYSVLIMAEKPVGDLSSPNETKYIISLDQDSVVKLENWTDASRVDGVVLEKVQEDEFRYRMYQTQVSDAGLYRCMVTAWSPVRGSLWREAATSLSNPIEIDFQTSGPIFNASVHSDTPSVIRGDLIKLFCIITVEGAALDPDDMAFDVSWFAVHSFGLDKAPVLLSSLDRKGIVTTSRRDWKSDLSLERVSVLEFLLQVHGSEDQDFGNYYCSVTPWVKSPTGSWQKEAEIHSKPVFITVKMDVLNAFKYPLLIGVGLSTVIGLLSCLIGYCSSHWCCKKEVQETRRERRRLMSMEMD']\n",
      "\n",
      "type: gene\n",
      "location: [52431:52556](-)\n",
      "qualifiers:\n",
      "    Key: db_xref, Value: ['GeneID:100873293', 'HGNC:HGNC:42832']\n",
      "    Key: gene, Value: ['RNA5SP55']\n",
      "    Key: gene_synonym, Value: ['RN5S55']\n",
      "    Key: note, Value: ['RNA, 5S ribosomal pseudogene 55; Derived by automated computational analysis using gene prediction method: Curated Genomic.']\n",
      "    Key: pseudo, Value: ['']\n",
      "\n",
      "type: misc_feature\n",
      "location: [72371:72666](+)\n",
      "qualifiers:\n",
      "    Key: db_xref, Value: ['GeneID:112577484']\n",
      "    Key: note, Value: ['Region: biological region; Derived by automated computational analysis using gene prediction method: RefSeqFE.']\n",
      "    Key: standard_name, Value: ['Sharpr-MPRA regulatory region 2959']\n",
      "\n",
      "type: regulatory\n",
      "location: [72371:72666](+)\n",
      "qualifiers:\n",
      "    Key: db_xref, Value: ['GeneID:112577484']\n",
      "    Key: experiment, Value: ['EXISTENCE:reporter gene assay evidence [ECO:0000049][PMID:27701403]']\n",
      "    Key: function, Value: ['activates a minimal TATA promoter and a strong SV40 promoter by Sharpr-MPRA in HepG2 cells']\n",
      "    Key: note, Value: ['tiled region #2959; HepG2 Activating DNase matched - State 8:EnhW']\n",
      "    Key: regulatory_class, Value: ['enhancer']\n",
      "\n"
     ]
    }
   ],
   "source": [
    "#ANÁLISE DAS FEATURES PRESENTES NO NCBI\n",
    "print (\"--------------------------------- ANÁLISE DAS FEATURES PRESENTES NO NCBI -------------------------------------\")\n",
    "#Lista de features do registo, nomeadamente o seu tipo e localização.\n",
    "type(seq1.features)\n",
    "print(\"Temos \", len(seq1.features), \" features\")\n",
    "seq1.features\n",
    "for feat in seq1.features:\n",
    "    print(feat)\n"
   ]
  },
  {
   "cell_type": "code",
   "execution_count": 7,
   "id": "f2f66394",
   "metadata": {},
   "outputs": [
    {
     "data": {
      "text/plain": [
       "[3, 19]"
      ]
     },
     "execution_count": 7,
     "metadata": {},
     "output_type": "execute_result"
    }
   ],
   "source": [
    "#Sequências codificantes associadas a este registo\n",
    "feat_cds = []\n",
    "for i in range(len(seq1.features)):\n",
    "    if seq1.features[i].type == \"CDS\":\n",
    "        feat_cds.append(i)\n",
    "feat_cds"
   ]
  },
  {
   "cell_type": "code",
   "execution_count": 8,
   "id": "190964ed",
   "metadata": {},
   "outputs": [
    {
     "name": "stdout",
     "output_type": "stream",
     "text": [
      "['prostaglandin F2 receptor negative regulator precursor']\n",
      "['MGRLASRPLLLALLSLALCRGRVVRVPTATLVRVVGTELVIPCNVSDYDGPSEQNFDWSFSSLGSSFVELASTWEVGFPAQLYQERLQRGEILLRRTANDAVELHIKNVQPSDQGHYKCSTPSTDATVQGNYEDTVQVKVLADSLHVGPSARPPPSLSLREGEPFELRCTAASASPLHTHLALLWEVHRGPARRSVLALTHEGRFHPGLGYEQRYHSGDVRLDTVGSDAYRLSVSRALSADQGSYRCIVSEWIAEQGNWQEIQEKAVEVATVVIQPSVLRAAVPKNVSVAEGKELDLTCNITTDRADDVRPEVTWSFSRMPDSTLPGSRVLARLDRDSLVHSSPHVALSHVDARSYHLLVRDVSKENSGYYYCHVSLWAPGHNRSWHKVAEAVSSPAGVGVTWLEPDYQVYLNASKVPGFADDPTELACRVVDTKSGEANVRFTVSWYYRMNRRSDNVVTSELLAVMDGDWTLKYGERSKQRAQDGDFIFSKEHTDTFNFRIQRTTEEDRGNYYCVVSAWTKQRNNSWVKSKDVFSKPVNIFWALEDSVLVVKARQPKPFFAAGNTFEMTCKVSSKNIKSPRYSVLIMAEKPVGDLSSPNETKYIISLDQDSVVKLENWTDASRVDGVVLEKVQEDEFRYRMYQTQVSDAGLYRCMVTAWSPVRGSLWREAATSLSNPIEIDFQTSGPIFNASVHSDTPSVIRGDLIKLFCIITVEGAALDPDDMAFDVSWFAVHSFGLDKAPVLLSSLDRKGIVTTSRRDWKSDLSLERVSVLEFLLQVHGSEDQDFGNYYCSVTPWVKSPTGSWQKEAEIHSKPVFITVKMDVLNAFKYPLLIGVGLSTVIGLLSCLIGYCSSHWCCKKEVQETRRERRRLMSMEMD']\n",
      "['prostaglandin F2 receptor negative regulator isoform X1']\n",
      "['MLGGNARWSTLDFGFSDWESLTALCRGRVVRVPTATLVRVVGTELVIPCNVSDYDGPSEQNFDWSFSSLGSSFVELASTWEVGFPAQLYQERLQRGEILLRRTANDAVELHIKNVQPSDQGHYKCSTPSTDATVQGNYEDTVQVKVLADSLHVGPSARPPPSLSLREGEPFELRCTAASASPLHTHLALLWEVHRGPARRSVLALTHEGRFHPGLGYEQRYHSGDVRLDTVGSDAYRLSVSRALSADQGSYRCIVSEWIAEQGNWQEIQEKAVEVATVVIQPSVLRAAVPKNVSVAEGKELDLTCNITTDRADDVRPEVTWSFSRMPDSTLPGSRVLARLDRDSLVHSSPHVALSHVDARSYHLLVRDVSKENSGYYYCHVSLWAPGHNRSWHKVAEAVSSPAGVGVTWLEPDYQVYLNASKVPGFADDPTELACRVVDTKSGEANVRFTVSWYYRMNRRSDNVVTSELLAVMDGDWTLKYGERSKQRAQDGDFIFSKEHTDTFNFRIQRTTEEDRGNYYCVVSAWTKQRNNSWVKSKDVFSKPVNIFWALEDSVLVVKARQPKPFFAAGNTFEMTCKVSSKNIKSPRYSVLIMAEKPVGDLSSPNETKYIISLDQDSVVKLENWTDASRVDGVVLEKVQEDEFRYRMYQTQVSDAGLYRCMVTAWSPVRGSLWREAATSLSNPIEIDFQTSGPIFNASVHSDTPSVIRGDLIKLFCIITVEGAALDPDDMAFDVSWFAVHSFGLDKAPVLLSSLDRKGIVTTSRRDWKSDLSLERVSVLEFLLQVHGSEDQDFGNYYCSVTPWVKSPTGSWQKEAEIHSKPVFITVKMDVLNAFKYPLLIGVGLSTVIGLLSCLIGYCSSHWCCKKEVQETRRERRRLMSMEMD']\n"
     ]
    }
   ],
   "source": [
    "#Proteína codificada e qual o seu significado biológico.\n",
    "\n",
    "\n",
    "for k in feat_cds:\n",
    "   print(seq1.features[k].qualifiers[\"product\"])\n",
    "   print(seq1.features[k].qualifiers[\"translation\"])\n"
   ]
  },
  {
   "cell_type": "code",
   "execution_count": 9,
   "id": "651f3184",
   "metadata": {},
   "outputs": [
    {
     "name": "stdout",
     "output_type": "stream",
     "text": [
      "DNA:  ATGGGGCGCCTGGCCTCGAGGCCGCTGCTGCTGGCGCTCCTGTCGTTGGCTCTTTGCCGAGGGCGTGTGGTGAGAGTCCCCACAGCGACCCTGGTTCGAGTGGTGGGCACTGAGCTGGTCATCCCCTGCAACGTCAGTGACTATGATGGCCCCAGCGAGCAAAACTTTGACTGGAGCTTCTCATCTTTGGGGAGCAGCTTTGTGGAGCTTGCAAGCACCTGGGAGGTGGGGTTCCCAGCCCAGCTGTACCAGGAGCGGCTGCAGAGGGGCGAGATCCTGTTAAGGCGGACTGCCAACGACGCCGTGGAGCTCCACATAAAGAACGTCCAGCCTTCAGACCAAGGCCACTACAAATGTTCAACCCCCAGCACAGATGCCACTGTCCAGGGAAACTATGAGGACACAGTGCAGGTTAAAGTGCTGGCCGACTCCCTGCACGTGGGCCCCAGCGCGCGGCCCCCGCCGAGCCTGAGCCTGCGGGAGGGGGAGCCCTTCGAGCTGCGCTGCACCGCCGCCTCCGCCTCGCCGCTGCACACGCACCTGGCGCTGCTGTGGGAGGTGCACCGCGGCCCGGCCAGGCGGAGCGTCCTCGCCCTGACCCACGAGGGCAGGTTCCACCCGGGCCTGGGGTACGAGCAGCGCTACCACAGTGGGGACGTGCGCCTCGACACCGTGGGCAGCGACGCCTACCGCCTCTCAGTGTCCCGGGCTCTGTCTGCCGACCAGGGCTCCTACAGGTGTATCGTCAGCGAGTGGATCGCCGAGCAGGGCAACTGGCAGGAAATCCAAGAAAAGGCCGTGGAAGTTGCCACCGTGGTGATCCAGCCATCAGTTCTGCGAGCAGCTGTGCCCAAGAATGTGTCTGTGGCTGAAGGAAAGGAACTGGACCTGACCTGTAACATCACAACAGACCGAGCCGATGACGTCCGGCCCGAGGTGACGTGGTCCTTCAGCAGGATGCCTGACAGCACCCTACCTGGCTCCCGCGTGTTGGCGCGGCTTGACCGTGATTCCCTGGTGCACAGCTCGCCTCATGTTGCTTTGAGTCATGTGGATGCACGCTCCTACCATTTACTGGTTCGGGATGTTAGCAAAGAAAACTCTGGCTACTATTACTGCCACGTGTCCCTGTGGGCACCCGGACACAACAGGAGCTGGCACAAAGTGGCAGAGGCCGTGTCTTCCCCAGCTGGTGTGGGTGTGACCTGGCTAGAACCAGACTACCAGGTGTACCTGAATGCTTCCAAGGTCCCCGGGTTTGCGGATGACCCCACAGAGCTGGCATGCCGGGTGGTGGACACGAAGAGTGGGGAGGCGAATGTCCGATTCACGGTTTCGTGGTACTACAGGATGAACCGGCGCAGCGACAATGTGGTGACCAGCGAGCTGCTTGCAGTCATGGACGGGGACTGGACGCTAAAATATGGAGAGAGGAGCAAGCAGCGGGCCCAGGATGGAGACTTTATTTTTTCTAAGGAACATACAGACACGTTCAATTTCCGGATCCAAAGGACTACAGAGGAAGACAGAGGCAATTATTACTGTGTTGTGTCTGCCTGGACCAAACAGCGGAACAACAGCTGGGTGAAAAGCAAGGATGTCTTCTCCAAGCCTGTTAACATATTTTGGGCATTAGAAGATTCCGTGCTTGTGGTGAAGGCGAGGCAGCCAAAGCCTTTCTTTGCTGCCGGAAATACATTTGAGATGACTTGCAAAGTATCTTCCAAGAATATTAAGTCGCCACGCTACTCTGTTCTCATCATGGCTGAGAAGCCTGTCGGCGACCTCTCCAGTCCCAATGAAACGAAGTACATCATCTCTCTGGACCAGGATTCTGTGGTGAAGCTGGAGAATTGGACAGATGCATCACGGGTGGATGGCGTTGTTTTAGAAAAAGTGCAGGAGGATGAGTTCCGCTATCGAATGTACCAGACTCAGGTCTCAGACGCAGGGCTGTACCGCTGCATGGTGACAGCCTGGTCTCCTGTCAGGGGCAGCCTTTGGCGAGAAGCAGCAACCAGTCTCTCCAATCCTATTGAGATAGACTTCCAAACCTCAGGTCCTATATTTAATGCTTCTGTGCATTCAGACACACCATCAGTAATTCGGGGAGATCTGATCAAATTGTTCTGTATCATCACTGTCGAGGGAGCAGCACTGGATCCAGATGACATGGCCTTTGATGTGTCCTGGTTTGCGGTGCACTCTTTTGGCCTGGACAAGGCTCCTGTGCTCCTGTCTTCCCTGGATCGGAAGGGCATCGTGACCACCTCCCGGAGGGACTGGAAGAGCGACCTCAGCCTGGAGCGCGTGAGTGTGCTGGAATTCTTGCTGCAAGTGCATGGCTCCGAGGACCAGGACTTTGGCAACTACTACTGTTCCGTGACTCCATGGGTGAAGTCACCAACAGGTTCCTGGCAGAAGGAGGCAGAGATCCACTCCAAGCCCGTTTTTATAACTGTGAAGATGGATGTGCTGAACGCCTTCAAGTATCCCTTGCTGATCGGCGTCGGTCTGTCCACGGTCATCGGGCTCCTGTCCTGTCTCATCGGGTACTGCAGCTCCCACTGGTGTTGTAAGAAGGAGGTTCAGGAGACACGGCGCGAGCGCCGCAGGCTCATGTCGATGGAGATGGACTAG\n",
      "Proteina:  MGRLASRPLLLALLSLALCRGRVVRVPTATLVRVVGTELVIPCNVSDYDGPSEQNFDWSFSSLGSSFVELASTWEVGFPAQLYQERLQRGEILLRRTANDAVELHIKNVQPSDQGHYKCSTPSTDATVQGNYEDTVQVKVLADSLHVGPSARPPPSLSLREGEPFELRCTAASASPLHTHLALLWEVHRGPARRSVLALTHEGRFHPGLGYEQRYHSGDVRLDTVGSDAYRLSVSRALSADQGSYRCIVSEWIAEQGNWQEIQEKAVEVATVVIQPSVLRAAVPKNVSVAEGKELDLTCNITTDRADDVRPEVTWSFSRMPDSTLPGSRVLARLDRDSLVHSSPHVALSHVDARSYHLLVRDVSKENSGYYYCHVSLWAPGHNRSWHKVAEAVSSPAGVGVTWLEPDYQVYLNASKVPGFADDPTELACRVVDTKSGEANVRFTVSWYYRMNRRSDNVVTSELLAVMDGDWTLKYGERSKQRAQDGDFIFSKEHTDTFNFRIQRTTEEDRGNYYCVVSAWTKQRNNSWVKSKDVFSKPVNIFWALEDSVLVVKARQPKPFFAAGNTFEMTCKVSSKNIKSPRYSVLIMAEKPVGDLSSPNETKYIISLDQDSVVKLENWTDASRVDGVVLEKVQEDEFRYRMYQTQVSDAGLYRCMVTAWSPVRGSLWREAATSLSNPIEIDFQTSGPIFNASVHSDTPSVIRGDLIKLFCIITVEGAALDPDDMAFDVSWFAVHSFGLDKAPVLLSSLDRKGIVTTSRRDWKSDLSLERVSVLEFLLQVHGSEDQDFGNYYCSVTPWVKSPTGSWQKEAEIHSKPVFITVKMDVLNAFKYPLLIGVGLSTVIGLLSCLIGYCSSHWCCKKEVQETRRERRRLMSMEMD*\n",
      "DNA:  ATGCTCGGAGGAAATGCTCGTTGGAGCACTTTGGATTTTGGATTTTCAGATTGGGAATCCTTAACTGCTCTTTGCCGAGGGCGTGTGGTGAGAGTCCCCACAGCGACCCTGGTTCGAGTGGTGGGCACTGAGCTGGTCATCCCCTGCAACGTCAGTGACTATGATGGCCCCAGCGAGCAAAACTTTGACTGGAGCTTCTCATCTTTGGGGAGCAGCTTTGTGGAGCTTGCAAGCACCTGGGAGGTGGGGTTCCCAGCCCAGCTGTACCAGGAGCGGCTGCAGAGGGGCGAGATCCTGTTAAGGCGGACTGCCAACGACGCCGTGGAGCTCCACATAAAGAACGTCCAGCCTTCAGACCAAGGCCACTACAAATGTTCAACCCCCAGCACAGATGCCACTGTCCAGGGAAACTATGAGGACACAGTGCAGGTTAAAGTGCTGGCCGACTCCCTGCACGTGGGCCCCAGCGCGCGGCCCCCGCCGAGCCTGAGCCTGCGGGAGGGGGAGCCCTTCGAGCTGCGCTGCACCGCCGCCTCCGCCTCGCCGCTGCACACGCACCTGGCGCTGCTGTGGGAGGTGCACCGCGGCCCGGCCAGGCGGAGCGTCCTCGCCCTGACCCACGAGGGCAGGTTCCACCCGGGCCTGGGGTACGAGCAGCGCTACCACAGTGGGGACGTGCGCCTCGACACCGTGGGCAGCGACGCCTACCGCCTCTCAGTGTCCCGGGCTCTGTCTGCCGACCAGGGCTCCTACAGGTGTATCGTCAGCGAGTGGATCGCCGAGCAGGGCAACTGGCAGGAAATCCAAGAAAAGGCCGTGGAAGTTGCCACCGTGGTGATCCAGCCATCAGTTCTGCGAGCAGCTGTGCCCAAGAATGTGTCTGTGGCTGAAGGAAAGGAACTGGACCTGACCTGTAACATCACAACAGACCGAGCCGATGACGTCCGGCCCGAGGTGACGTGGTCCTTCAGCAGGATGCCTGACAGCACCCTACCTGGCTCCCGCGTGTTGGCGCGGCTTGACCGTGATTCCCTGGTGCACAGCTCGCCTCATGTTGCTTTGAGTCATGTGGATGCACGCTCCTACCATTTACTGGTTCGGGATGTTAGCAAAGAAAACTCTGGCTACTATTACTGCCACGTGTCCCTGTGGGCACCCGGACACAACAGGAGCTGGCACAAAGTGGCAGAGGCCGTGTCTTCCCCAGCTGGTGTGGGTGTGACCTGGCTAGAACCAGACTACCAGGTGTACCTGAATGCTTCCAAGGTCCCCGGGTTTGCGGATGACCCCACAGAGCTGGCATGCCGGGTGGTGGACACGAAGAGTGGGGAGGCGAATGTCCGATTCACGGTTTCGTGGTACTACAGGATGAACCGGCGCAGCGACAATGTGGTGACCAGCGAGCTGCTTGCAGTCATGGACGGGGACTGGACGCTAAAATATGGAGAGAGGAGCAAGCAGCGGGCCCAGGATGGAGACTTTATTTTTTCTAAGGAACATACAGACACGTTCAATTTCCGGATCCAAAGGACTACAGAGGAAGACAGAGGCAATTATTACTGTGTTGTGTCTGCCTGGACCAAACAGCGGAACAACAGCTGGGTGAAAAGCAAGGATGTCTTCTCCAAGCCTGTTAACATATTTTGGGCATTAGAAGATTCCGTGCTTGTGGTGAAGGCGAGGCAGCCAAAGCCTTTCTTTGCTGCCGGAAATACATTTGAGATGACTTGCAAAGTATCTTCCAAGAATATTAAGTCGCCACGCTACTCTGTTCTCATCATGGCTGAGAAGCCTGTCGGCGACCTCTCCAGTCCCAATGAAACGAAGTACATCATCTCTCTGGACCAGGATTCTGTGGTGAAGCTGGAGAATTGGACAGATGCATCACGGGTGGATGGCGTTGTTTTAGAAAAAGTGCAGGAGGATGAGTTCCGCTATCGAATGTACCAGACTCAGGTCTCAGACGCAGGGCTGTACCGCTGCATGGTGACAGCCTGGTCTCCTGTCAGGGGCAGCCTTTGGCGAGAAGCAGCAACCAGTCTCTCCAATCCTATTGAGATAGACTTCCAAACCTCAGGTCCTATATTTAATGCTTCTGTGCATTCAGACACACCATCAGTAATTCGGGGAGATCTGATCAAATTGTTCTGTATCATCACTGTCGAGGGAGCAGCACTGGATCCAGATGACATGGCCTTTGATGTGTCCTGGTTTGCGGTGCACTCTTTTGGCCTGGACAAGGCTCCTGTGCTCCTGTCTTCCCTGGATCGGAAGGGCATCGTGACCACCTCCCGGAGGGACTGGAAGAGCGACCTCAGCCTGGAGCGCGTGAGTGTGCTGGAATTCTTGCTGCAAGTGCATGGCTCCGAGGACCAGGACTTTGGCAACTACTACTGTTCCGTGACTCCATGGGTGAAGTCACCAACAGGTTCCTGGCAGAAGGAGGCAGAGATCCACTCCAAGCCCGTTTTTATAACTGTGAAGATGGATGTGCTGAACGCCTTCAAGTATCCCTTGCTGATCGGCGTCGGTCTGTCCACGGTCATCGGGCTCCTGTCCTGTCTCATCGGGTACTGCAGCTCCCACTGGTGTTGTAAGAAGGAGGTTCAGGAGACACGGCGCGAGCGCCGCAGGCTCATGTCGATGGAGATGGACTAG\n",
      "Proteina:  MLGGNARWSTLDFGFSDWESLTALCRGRVVRVPTATLVRVVGTELVIPCNVSDYDGPSEQNFDWSFSSLGSSFVELASTWEVGFPAQLYQERLQRGEILLRRTANDAVELHIKNVQPSDQGHYKCSTPSTDATVQGNYEDTVQVKVLADSLHVGPSARPPPSLSLREGEPFELRCTAASASPLHTHLALLWEVHRGPARRSVLALTHEGRFHPGLGYEQRYHSGDVRLDTVGSDAYRLSVSRALSADQGSYRCIVSEWIAEQGNWQEIQEKAVEVATVVIQPSVLRAAVPKNVSVAEGKELDLTCNITTDRADDVRPEVTWSFSRMPDSTLPGSRVLARLDRDSLVHSSPHVALSHVDARSYHLLVRDVSKENSGYYYCHVSLWAPGHNRSWHKVAEAVSSPAGVGVTWLEPDYQVYLNASKVPGFADDPTELACRVVDTKSGEANVRFTVSWYYRMNRRSDNVVTSELLAVMDGDWTLKYGERSKQRAQDGDFIFSKEHTDTFNFRIQRTTEEDRGNYYCVVSAWTKQRNNSWVKSKDVFSKPVNIFWALEDSVLVVKARQPKPFFAAGNTFEMTCKVSSKNIKSPRYSVLIMAEKPVGDLSSPNETKYIISLDQDSVVKLENWTDASRVDGVVLEKVQEDEFRYRMYQTQVSDAGLYRCMVTAWSPVRGSLWREAATSLSNPIEIDFQTSGPIFNASVHSDTPSVIRGDLIKLFCIITVEGAALDPDDMAFDVSWFAVHSFGLDKAPVLLSSLDRKGIVTTSRRDWKSDLSLERVSVLEFLLQVHGSEDQDFGNYYCSVTPWVKSPTGSWQKEAEIHSKPVFITVKMDVLNAFKYPLLIGVGLSTVIGLLSCLIGYCSSHWCCKKEVQETRRERRRLMSMEMD*\n"
     ]
    }
   ],
   "source": [
    "for k in feat_cds:\n",
    "    coding_dna = seq1.features[k].extract(seq1.seq)\n",
    "    print(\"DNA: \", coding_dna)\n",
    "    print(\"Proteina: \", coding_dna.translate())"
   ]
  },
  {
   "cell_type": "code",
   "execution_count": null,
   "id": "34db3ab1",
   "metadata": {},
   "outputs": [],
   "source": []
  }
 ],
 "metadata": {
  "kernelspec": {
   "display_name": "Python 3 (ipykernel)",
   "language": "python",
   "name": "python3"
  },
  "language_info": {
   "codemirror_mode": {
    "name": "ipython",
    "version": 3
   },
   "file_extension": ".py",
   "mimetype": "text/x-python",
   "name": "python",
   "nbconvert_exporter": "python",
   "pygments_lexer": "ipython3",
   "version": "3.9.12"
  }
 },
 "nbformat": 4,
 "nbformat_minor": 5
}
